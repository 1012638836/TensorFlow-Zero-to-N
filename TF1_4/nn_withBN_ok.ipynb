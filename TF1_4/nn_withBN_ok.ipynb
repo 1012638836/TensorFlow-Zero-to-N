{
 "cells": [
  {
   "cell_type": "code",
   "execution_count": 1,
   "metadata": {},
   "outputs": [
    {
     "name": "stdout",
     "output_type": "stream",
     "text": [
      "Extracting ../MNIST/train-images-idx3-ubyte.gz\n",
      "Extracting ../MNIST/train-labels-idx1-ubyte.gz\n",
      "Extracting ../MNIST/t10k-images-idx3-ubyte.gz\n",
      "Extracting ../MNIST/t10k-labels-idx1-ubyte.gz\n"
     ]
    }
   ],
   "source": [
    "import numpy as np\n",
    "import tensorflow as tf\n",
    "import tqdm\n",
    "from tensorflow.examples.tutorials.mnist import input_data\n",
    "import matplotlib.pyplot as plt\n",
    "%matplotlib inline\n",
    "\n",
    "mnist = input_data.read_data_sets('../MNIST/', one_hot=True)"
   ]
  },
  {
   "cell_type": "code",
   "execution_count": 2,
   "metadata": {
    "collapsed": true
   },
   "outputs": [],
   "source": [
    "w1_initial = np.random.normal(size=(784, 100)).astype(np.float32)\n",
    "w2_initial = np.random.normal(size=(100, 100)).astype(np.float32)\n",
    "w3_initial = np.random.normal(size=(100, 10)).astype(np.float32)\n",
    "\n",
    "# Small epsilon value for the BN transform\n",
    "epsilon = 1e-3"
   ]
  },
  {
   "cell_type": "code",
   "execution_count": 3,
   "metadata": {
    "collapsed": true
   },
   "outputs": [],
   "source": [
    "# this is a simpler version of Tensorflow's 'official' version. See:\n",
    "# https://github.com/tensorflow/tensorflow/blob/master/tensorflow/contrib/layers/python/layers/layers.py#L102\n",
    "def batch_norm_wrapper(inputs, is_training, decay = 0.999):\n",
    "\n",
    "    scale = tf.Variable(tf.ones([inputs.get_shape()[-1]]))\n",
    "    beta = tf.Variable(tf.zeros([inputs.get_shape()[-1]]))\n",
    "    pop_mean = tf.Variable(tf.zeros([inputs.get_shape()[-1]]), trainable=False)\n",
    "    pop_var = tf.Variable(tf.ones([inputs.get_shape()[-1]]), trainable=False)\n",
    "\n",
    "    if is_training:\n",
    "        batch_mean, batch_var = tf.nn.moments(inputs,[0])\n",
    "        train_mean = tf.assign(pop_mean,\n",
    "                               pop_mean * decay + batch_mean * (1 - decay))\n",
    "        train_var = tf.assign(pop_var,\n",
    "                              pop_var * decay + batch_var * (1 - decay))\n",
    "        with tf.control_dependencies([train_mean, train_var]):\n",
    "            return tf.nn.batch_normalization(inputs,\n",
    "                batch_mean, batch_var, beta, scale, epsilon)\n",
    "    else:\n",
    "        return tf.nn.batch_normalization(inputs,\n",
    "            pop_mean, pop_var, beta, scale, epsilon)"
   ]
  },
  {
   "cell_type": "code",
   "execution_count": 4,
   "metadata": {
    "collapsed": true
   },
   "outputs": [],
   "source": [
    "def build_graph(is_training):\n",
    "    # Placeholders\n",
    "    x = tf.placeholder(tf.float32, shape=[None, 784])\n",
    "    y_ = tf.placeholder(tf.float32, shape=[None, 10])\n",
    "\n",
    "    # Layer 1\n",
    "    w1 = tf.Variable(w1_initial)\n",
    "    z1 = tf.matmul(x,w1)\n",
    "    bn1 = batch_norm_wrapper(z1, is_training)\n",
    "    l1 = tf.nn.sigmoid(bn1)\n",
    "\n",
    "    #Layer 2\n",
    "    w2 = tf.Variable(w2_initial)\n",
    "    z2 = tf.matmul(l1,w2)\n",
    "    bn2 = batch_norm_wrapper(z2, is_training)\n",
    "    l2 = tf.nn.sigmoid(bn2)\n",
    "\n",
    "    # Softmax\n",
    "    w3 = tf.Variable(w3_initial)\n",
    "    b3 = tf.Variable(tf.zeros([10]))\n",
    "    y  = tf.nn.softmax(tf.matmul(l2, w3))\n",
    "\n",
    "    # Loss, Optimizer and Predictions\n",
    "    cross_entropy = -tf.reduce_sum(y_*tf.log(y))\n",
    "\n",
    "    train_step = tf.train.GradientDescentOptimizer(0.01).minimize(cross_entropy)\n",
    "\n",
    "    correct_prediction = tf.equal(tf.arg_max(y,1),tf.arg_max(y_,1))\n",
    "    accuracy = tf.reduce_mean(tf.cast(correct_prediction,tf.float32))\n",
    "\n",
    "    return (x, y_), train_step, accuracy, y, tf.train.Saver()"
   ]
  },
  {
   "cell_type": "code",
   "execution_count": 6,
   "metadata": {},
   "outputs": [
    {
     "name": "stderr",
     "output_type": "stream",
     "text": [
      "100%|████████████████████████████████████████████████████████████████████████| 10000/10000 [00:24<00:00, 407.77it/s]\n"
     ]
    },
    {
     "name": "stdout",
     "output_type": "stream",
     "text": [
      "Final accuracy: 0.9503\n"
     ]
    }
   ],
   "source": [
    "#Build training graph, train and save the trained model\n",
    "\n",
    "tf.reset_default_graph()\n",
    "(x, y_), train_step, accuracy, _, saver = build_graph(is_training=True)\n",
    "\n",
    "acc = []\n",
    "with tf.Session() as sess:\n",
    "    sess.run(tf.global_variables_initializer())\n",
    "    for i in tqdm.tqdm(range(10000)):\n",
    "        batch = mnist.train.next_batch(60)\n",
    "        train_step.run(feed_dict={x: batch[0], y_: batch[1]})\n",
    "        if i % 50 is 0:\n",
    "            res = sess.run([accuracy],feed_dict={x: mnist.test.images, y_: mnist.test.labels})\n",
    "            acc.append(res[0])\n",
    "    saved_model = saver.save(sess, './tmp/temp-bn-save')\n",
    "\n",
    "print(\"Final accuracy:\", acc[-1])"
   ]
  },
  {
   "cell_type": "code",
   "execution_count": 7,
   "metadata": {},
   "outputs": [
    {
     "name": "stdout",
     "output_type": "stream",
     "text": [
      "INFO:tensorflow:Restoring parameters from ./tmp/temp-bn-save\n",
      "PREDICTIONS: [7, 2, 1, 0, 4, 1, 4, 9, 6, 9, 0, 6, 9, 0, 1, 5, 9, 7, 2, 4, 9, 6, 6, 5, 4, 0, 7, 4, 0, 1, 3, 1, 3, 4, 7, 2, 7, 1, 2, 1, 1, 7, 4, 2, 3, 5, 1, 2, 4, 4, 6, 3, 5, 5, 6, 0, 4, 1, 9, 5, 7, 8, 9, 2, 7, 4, 6, 4, 3, 0, 7, 0, 2, 9, 1, 7, 3, 2, 9, 7, 7, 6, 2, 7, 8, 4, 7, 3, 6, 1, 3, 6, 4, 3, 1, 4, 1, 7, 6, 9]\n",
      "ACCURACY: 0.96\n"
     ]
    }
   ],
   "source": [
    "tf.reset_default_graph()\n",
    "(x, y_), _, accuracy, y, saver = build_graph(is_training=False)\n",
    "\n",
    "predictions = []\n",
    "correct = 0\n",
    "with tf.Session() as sess:\n",
    "    sess.run(tf.global_variables_initializer())\n",
    "    saver.restore(sess, './tmp/temp-bn-save')\n",
    "    for i in range(100):\n",
    "        pred, corr = sess.run([tf.arg_max(y,1), accuracy],\n",
    "                             feed_dict={x: [mnist.test.images[i]], y_: [mnist.test.labels[i]]})\n",
    "        correct += corr\n",
    "        predictions.append(pred[0])\n",
    "print(\"PREDICTIONS:\", predictions)\n",
    "print(\"ACCURACY:\", correct/100)"
   ]
  },
  {
   "cell_type": "code",
   "execution_count": null,
   "metadata": {
    "collapsed": true
   },
   "outputs": [],
   "source": []
  }
 ],
 "metadata": {
  "kernelspec": {
   "display_name": "Python 3",
   "language": "python",
   "name": "python3"
  },
  "language_info": {
   "codemirror_mode": {
    "name": "ipython",
    "version": 3
   },
   "file_extension": ".py",
   "mimetype": "text/x-python",
   "name": "python",
   "nbconvert_exporter": "python",
   "pygments_lexer": "ipython3",
   "version": "3.6.2"
  }
 },
 "nbformat": 4,
 "nbformat_minor": 2
}
